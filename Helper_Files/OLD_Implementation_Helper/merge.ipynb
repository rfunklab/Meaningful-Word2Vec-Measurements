{
 "cells": [
  {
   "cell_type": "code",
   "execution_count": 1,
   "id": "competitive-jason",
   "metadata": {},
   "outputs": [],
   "source": [
    "import os\n",
    "import shutil"
   ]
  },
  {
   "cell_type": "code",
   "execution_count": 2,
   "id": "applied-silicon",
   "metadata": {},
   "outputs": [],
   "source": [
    "source_dir = \"Covariance_Inverse\"\n",
    "destination_dir = \"Outer_Correlation\""
   ]
  },
  {
   "cell_type": "code",
   "execution_count": 3,
   "id": "presidential-austin",
   "metadata": {},
   "outputs": [],
   "source": [
    "# Iterate over items in source_dir\n",
    "for filename in os.listdir(source_dir):\n",
    "    src_path = os.path.join(source_dir, filename)\n",
    "\n",
    "    # Skip directories\n",
    "    if os.path.isdir(src_path):\n",
    "        continue\n",
    "\n",
    "    # Skip .out and .ipynb files\n",
    "    if filename.endswith('.out') or filename.endswith('.ipynb'):\n",
    "        continue\n",
    "\n",
    "    # Rename if starts with \"cv_\"\n",
    "    new_filename = filename\n",
    "    if filename.startswith(\"cv_\"):\n",
    "        new_filename = \"oc_\" + filename[len(\"cv_\"):]\n",
    "\n",
    "    dest_path = os.path.join(destination_dir, new_filename)\n",
    "\n",
    "    # Copy file to destination\n",
    "    shutil.copy2(src_path, dest_path)"
   ]
  },
  {
   "cell_type": "code",
   "execution_count": null,
   "id": "potential-difference",
   "metadata": {},
   "outputs": [],
   "source": []
  }
 ],
 "metadata": {
  "kernelspec": {
   "display_name": "Python3.10",
   "language": "python",
   "name": "python3.10"
  },
  "language_info": {
   "codemirror_mode": {
    "name": "ipython",
    "version": 3
   },
   "file_extension": ".py",
   "mimetype": "text/x-python",
   "name": "python",
   "nbconvert_exporter": "python",
   "pygments_lexer": "ipython3",
   "version": "3.10.9"
  }
 },
 "nbformat": 4,
 "nbformat_minor": 5
}
