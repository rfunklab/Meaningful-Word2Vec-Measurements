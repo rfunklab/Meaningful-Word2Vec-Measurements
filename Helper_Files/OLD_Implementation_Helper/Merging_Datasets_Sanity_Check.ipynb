{
 "cells": [
  {
   "cell_type": "code",
   "execution_count": 1,
   "id": "clear-architect",
   "metadata": {
    "scrolled": true
   },
   "outputs": [
    {
     "name": "stderr",
     "output_type": "stream",
     "text": [
      "/users/3/hassa940/.local/lib/python3.8/site-packages/pandas/core/computation/expressions.py:20: UserWarning: Pandas requires version '2.7.3' or newer of 'numexpr' (version '2.7.1' currently installed).\n",
      "  from pandas.core.computation.check import NUMEXPR_INSTALLED\n"
     ]
    }
   ],
   "source": [
    "import pandas as pd\n",
    "from pathlib import Path\n",
    "import numpy as np"
   ]
  },
  {
   "cell_type": "code",
   "execution_count": 2,
   "id": "vocational-louisville",
   "metadata": {},
   "outputs": [],
   "source": [
    "root = Path(\"results_per_section\")"
   ]
  },
  {
   "cell_type": "code",
   "execution_count": 3,
   "id": "productive-error",
   "metadata": {},
   "outputs": [],
   "source": [
    "dfs = [pd.read_csv(f\"results_per_section/{fp.name}\") for fp in root.glob(\"*.csv\")]"
   ]
  },
  {
   "cell_type": "code",
   "execution_count": 4,
   "id": "sealed-constitution",
   "metadata": {},
   "outputs": [],
   "source": [
    "raw_df = pd.concat(dfs, ignore_index=True)"
   ]
  },
  {
   "cell_type": "code",
   "execution_count": 5,
   "id": "spectacular-ability",
   "metadata": {},
   "outputs": [],
   "source": [
    "chk = (\n",
    "    raw_df.groupby([\"freq_subset\", \"rcond\", \"measure\"], as_index=False)\n",
    "        .agg(\n",
    "            n_rows      = (\"overall_accuracy\", \"size\"),\n",
    "            sum_accuracy= (\"overall_accuracy\", \"sum\"),\n",
    "            avg_accuracy= (\"overall_accuracy\", \"mean\")\n",
    "        )\n",
    ")"
   ]
  },
  {
   "cell_type": "code",
   "execution_count": 6,
   "id": "instant-montgomery",
   "metadata": {},
   "outputs": [],
   "source": [
    "summary_df = pd.read_csv(\"merged_results/merged_results_measurements.csv\")"
   ]
  },
  {
   "cell_type": "code",
   "execution_count": 7,
   "id": "blank-printing",
   "metadata": {},
   "outputs": [],
   "source": [
    "tol = 1e-12                                      # numerical tolerance"
   ]
  },
  {
   "cell_type": "code",
   "execution_count": 8,
   "id": "incorporate-commerce",
   "metadata": {},
   "outputs": [],
   "source": [
    "# A) Every combination should appear exactly once\n",
    "\n",
    "assert len(summary_df) == 100, \"Expected 100 unique (freq,rcond,measure) rows.\""
   ]
  },
  {
   "cell_type": "code",
   "execution_count": 9,
   "id": "protecting-training",
   "metadata": {},
   "outputs": [],
   "source": [
    "# B) Join summaries and compare all numeric columns\n",
    "\n",
    "merge = summary_df.merge(chk, on=[\"freq_subset\", \"rcond\", \"measure\"], suffixes=(\"_saved\", \"_chk\"), how=\"outer\")\n",
    "assert len(merge) == 100, \"Mismatch in key sets between saved and recomputed summaries.\""
   ]
  },
  {
   "cell_type": "code",
   "execution_count": 10,
   "id": "isolated-palace",
   "metadata": {},
   "outputs": [],
   "source": [
    "# C) Verify equality of counts, sums, means (within tolerance)\n",
    "\n",
    "cols_to_check = [\"n_rows\", \"sum_accuracy\", \"avg_accuracy\"]\n",
    "for col in cols_to_check:\n",
    "    diff = np.abs(merge[f\"{col}_saved\"] - merge[f\"{col}_chk\"])\n",
    "    assert (diff < tol).all(), f\"Discrepancy found in {col}: max diff = {diff.max()}\""
   ]
  },
  {
   "cell_type": "code",
   "execution_count": 11,
   "id": "familiar-breed",
   "metadata": {},
   "outputs": [
    {
     "name": "stdout",
     "output_type": "stream",
     "text": [
      "All sanity checks passed: counts, sums, and averages are consistent.\n"
     ]
    }
   ],
   "source": [
    "# D) Quick logical check: avg ≈ sum / n_rows in the saved file\n",
    "\n",
    "ratio_diff = np.abs(summary_df[\"avg_accuracy\"] - summary_df[\"sum_accuracy\"] / summary_df[\"n_rows\"])\n",
    "assert (ratio_diff < tol).all(), f\"Saved avg != sum/n: max diff = {ratio_diff.max()}\"\n",
    "\n",
    "print(\"All sanity checks passed: counts, sums, and averages are consistent.\")"
   ]
  }
 ],
 "metadata": {
  "kernelspec": {
   "display_name": "Python3.8.3",
   "language": "python",
   "name": "python3.8.3"
  },
  "language_info": {
   "codemirror_mode": {
    "name": "ipython",
    "version": 3
   },
   "file_extension": ".py",
   "mimetype": "text/x-python",
   "name": "python",
   "nbconvert_exporter": "python",
   "pygments_lexer": "ipython3",
   "version": "3.8.3"
  }
 },
 "nbformat": 4,
 "nbformat_minor": 5
}
