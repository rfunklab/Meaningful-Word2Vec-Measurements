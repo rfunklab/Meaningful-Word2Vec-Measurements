{
 "cells": [
  {
   "cell_type": "code",
   "execution_count": 1,
   "id": "unnecessary-vertical",
   "metadata": {},
   "outputs": [
    {
     "name": "stderr",
     "output_type": "stream",
     "text": [
      "/users/3/hassa940/.local/lib/python3.8/site-packages/pandas/core/computation/expressions.py:20: UserWarning: Pandas requires version '2.7.3' or newer of 'numexpr' (version '2.7.1' currently installed).\n",
      "  from pandas.core.computation.check import NUMEXPR_INSTALLED\n"
     ]
    }
   ],
   "source": [
    "import pandas as pd\n",
    "from pathlib import Path"
   ]
  },
  {
   "cell_type": "code",
   "execution_count": 2,
   "id": "legal-valentine",
   "metadata": {},
   "outputs": [],
   "source": [
    "root = Path(\"results_per_section\")"
   ]
  },
  {
   "cell_type": "code",
   "execution_count": 3,
   "id": "packed-explosion",
   "metadata": {},
   "outputs": [],
   "source": [
    "# load all csv files in that directory\n",
    "\n",
    "dfs = [pd.read_csv(f\"results_per_section/{fp.name}\") for fp in root.glob(\"*.csv\")]"
   ]
  },
  {
   "cell_type": "code",
   "execution_count": 4,
   "id": "constitutional-elder",
   "metadata": {},
   "outputs": [],
   "source": [
    "# combine vertically\n",
    "\n",
    "full = pd.concat(dfs, ignore_index=True)"
   ]
  },
  {
   "cell_type": "code",
   "execution_count": 5,
   "id": "close-gossip",
   "metadata": {},
   "outputs": [],
   "source": [
    "summary_df = (full.groupby([\"freq_subset\", \"rcond\", \"measure\"], as_index=False)\n",
    "                .agg(sum_accuracy=(\"overall_accuracy\", \"sum\"),\n",
    "                     avg_accuracy=(\"overall_accuracy\", \"mean\"),\n",
    "                     n_rows=(\"overall_accuracy\", \"size\")))"
   ]
  },
  {
   "cell_type": "code",
   "execution_count": 6,
   "id": "complicated-union",
   "metadata": {},
   "outputs": [
    {
     "data": {
      "text/plain": [
       "(100, 6)"
      ]
     },
     "execution_count": 6,
     "metadata": {},
     "output_type": "execute_result"
    }
   ],
   "source": [
    "summary_df.shape"
   ]
  },
  {
   "cell_type": "code",
   "execution_count": 7,
   "id": "dietary-sessions",
   "metadata": {
    "scrolled": false
   },
   "outputs": [
    {
     "data": {
      "text/html": [
       "<div>\n",
       "<style scoped>\n",
       "    .dataframe tbody tr th:only-of-type {\n",
       "        vertical-align: middle;\n",
       "    }\n",
       "\n",
       "    .dataframe tbody tr th {\n",
       "        vertical-align: top;\n",
       "    }\n",
       "\n",
       "    .dataframe thead th {\n",
       "        text-align: right;\n",
       "    }\n",
       "</style>\n",
       "<table border=\"1\" class=\"dataframe\">\n",
       "  <thead>\n",
       "    <tr style=\"text-align: right;\">\n",
       "      <th></th>\n",
       "      <th>freq_subset</th>\n",
       "      <th>rcond</th>\n",
       "      <th>measure</th>\n",
       "      <th>sum_accuracy</th>\n",
       "      <th>avg_accuracy</th>\n",
       "      <th>n_rows</th>\n",
       "    </tr>\n",
       "  </thead>\n",
       "  <tbody>\n",
       "    <tr>\n",
       "      <th>0</th>\n",
       "      <td>10000</td>\n",
       "      <td>0.001</td>\n",
       "      <td>euclidean_distance</td>\n",
       "      <td>712.0</td>\n",
       "      <td>0.051952</td>\n",
       "      <td>13705</td>\n",
       "    </tr>\n",
       "    <tr>\n",
       "      <th>1</th>\n",
       "      <td>10000</td>\n",
       "      <td>0.001</td>\n",
       "      <td>mahalanobis_cosine</td>\n",
       "      <td>1821.0</td>\n",
       "      <td>0.132871</td>\n",
       "      <td>13705</td>\n",
       "    </tr>\n",
       "    <tr>\n",
       "      <th>2</th>\n",
       "      <td>10000</td>\n",
       "      <td>0.001</td>\n",
       "      <td>mahalanobis_distance</td>\n",
       "      <td>690.0</td>\n",
       "      <td>0.050347</td>\n",
       "      <td>13705</td>\n",
       "    </tr>\n",
       "    <tr>\n",
       "      <th>3</th>\n",
       "      <td>10000</td>\n",
       "      <td>0.001</td>\n",
       "      <td>mahalanobis_shifted_cosine</td>\n",
       "      <td>1895.0</td>\n",
       "      <td>0.138271</td>\n",
       "      <td>13705</td>\n",
       "    </tr>\n",
       "    <tr>\n",
       "      <th>4</th>\n",
       "      <td>10000</td>\n",
       "      <td>0.001</td>\n",
       "      <td>naive_cosine</td>\n",
       "      <td>1931.0</td>\n",
       "      <td>0.140897</td>\n",
       "      <td>13705</td>\n",
       "    </tr>\n",
       "  </tbody>\n",
       "</table>\n",
       "</div>"
      ],
      "text/plain": [
       "   freq_subset  rcond                     measure  sum_accuracy  avg_accuracy  \\\n",
       "0        10000  0.001          euclidean_distance         712.0      0.051952   \n",
       "1        10000  0.001          mahalanobis_cosine        1821.0      0.132871   \n",
       "2        10000  0.001        mahalanobis_distance         690.0      0.050347   \n",
       "3        10000  0.001  mahalanobis_shifted_cosine        1895.0      0.138271   \n",
       "4        10000  0.001                naive_cosine        1931.0      0.140897   \n",
       "\n",
       "   n_rows  \n",
       "0   13705  \n",
       "1   13705  \n",
       "2   13705  \n",
       "3   13705  \n",
       "4   13705  "
      ]
     },
     "execution_count": 7,
     "metadata": {},
     "output_type": "execute_result"
    }
   ],
   "source": [
    "summary_df.head()"
   ]
  },
  {
   "cell_type": "code",
   "execution_count": 8,
   "id": "occupied-shepherd",
   "metadata": {},
   "outputs": [],
   "source": [
    "sorted_summary_df = summary_df.sort_values(\"avg_accuracy\", ascending=False).reset_index(drop=True)"
   ]
  },
  {
   "cell_type": "code",
   "execution_count": 9,
   "id": "legislative-billion",
   "metadata": {},
   "outputs": [
    {
     "data": {
      "text/html": [
       "<div>\n",
       "<style scoped>\n",
       "    .dataframe tbody tr th:only-of-type {\n",
       "        vertical-align: middle;\n",
       "    }\n",
       "\n",
       "    .dataframe tbody tr th {\n",
       "        vertical-align: top;\n",
       "    }\n",
       "\n",
       "    .dataframe thead th {\n",
       "        text-align: right;\n",
       "    }\n",
       "</style>\n",
       "<table border=\"1\" class=\"dataframe\">\n",
       "  <thead>\n",
       "    <tr style=\"text-align: right;\">\n",
       "      <th></th>\n",
       "      <th>freq_subset</th>\n",
       "      <th>rcond</th>\n",
       "      <th>measure</th>\n",
       "      <th>sum_accuracy</th>\n",
       "      <th>avg_accuracy</th>\n",
       "      <th>n_rows</th>\n",
       "    </tr>\n",
       "  </thead>\n",
       "  <tbody>\n",
       "    <tr>\n",
       "      <th>0</th>\n",
       "      <td>100000</td>\n",
       "      <td>0.010</td>\n",
       "      <td>mahalanobis_cosine</td>\n",
       "      <td>2277.0</td>\n",
       "      <td>0.166144</td>\n",
       "      <td>13705</td>\n",
       "    </tr>\n",
       "    <tr>\n",
       "      <th>1</th>\n",
       "      <td>100000</td>\n",
       "      <td>0.001</td>\n",
       "      <td>mahalanobis_cosine</td>\n",
       "      <td>2277.0</td>\n",
       "      <td>0.166144</td>\n",
       "      <td>13705</td>\n",
       "    </tr>\n",
       "    <tr>\n",
       "      <th>2</th>\n",
       "      <td>100000</td>\n",
       "      <td>0.020</td>\n",
       "      <td>mahalanobis_cosine</td>\n",
       "      <td>2277.0</td>\n",
       "      <td>0.166144</td>\n",
       "      <td>13705</td>\n",
       "    </tr>\n",
       "    <tr>\n",
       "      <th>3</th>\n",
       "      <td>100000</td>\n",
       "      <td>0.005</td>\n",
       "      <td>mahalanobis_cosine</td>\n",
       "      <td>2277.0</td>\n",
       "      <td>0.166144</td>\n",
       "      <td>13705</td>\n",
       "    </tr>\n",
       "    <tr>\n",
       "      <th>4</th>\n",
       "      <td>100000</td>\n",
       "      <td>0.001</td>\n",
       "      <td>mahalanobis_shifted_cosine</td>\n",
       "      <td>2252.0</td>\n",
       "      <td>0.164320</td>\n",
       "      <td>13705</td>\n",
       "    </tr>\n",
       "    <tr>\n",
       "      <th>5</th>\n",
       "      <td>100000</td>\n",
       "      <td>0.020</td>\n",
       "      <td>mahalanobis_shifted_cosine</td>\n",
       "      <td>2252.0</td>\n",
       "      <td>0.164320</td>\n",
       "      <td>13705</td>\n",
       "    </tr>\n",
       "    <tr>\n",
       "      <th>6</th>\n",
       "      <td>100000</td>\n",
       "      <td>0.005</td>\n",
       "      <td>mahalanobis_shifted_cosine</td>\n",
       "      <td>2252.0</td>\n",
       "      <td>0.164320</td>\n",
       "      <td>13705</td>\n",
       "    </tr>\n",
       "    <tr>\n",
       "      <th>7</th>\n",
       "      <td>100000</td>\n",
       "      <td>0.010</td>\n",
       "      <td>mahalanobis_shifted_cosine</td>\n",
       "      <td>2252.0</td>\n",
       "      <td>0.164320</td>\n",
       "      <td>13705</td>\n",
       "    </tr>\n",
       "    <tr>\n",
       "      <th>8</th>\n",
       "      <td>50000</td>\n",
       "      <td>0.005</td>\n",
       "      <td>mahalanobis_cosine</td>\n",
       "      <td>2214.0</td>\n",
       "      <td>0.161547</td>\n",
       "      <td>13705</td>\n",
       "    </tr>\n",
       "    <tr>\n",
       "      <th>9</th>\n",
       "      <td>50000</td>\n",
       "      <td>0.020</td>\n",
       "      <td>mahalanobis_cosine</td>\n",
       "      <td>2214.0</td>\n",
       "      <td>0.161547</td>\n",
       "      <td>13705</td>\n",
       "    </tr>\n",
       "  </tbody>\n",
       "</table>\n",
       "</div>"
      ],
      "text/plain": [
       "   freq_subset  rcond                     measure  sum_accuracy  avg_accuracy  \\\n",
       "0       100000  0.010          mahalanobis_cosine        2277.0      0.166144   \n",
       "1       100000  0.001          mahalanobis_cosine        2277.0      0.166144   \n",
       "2       100000  0.020          mahalanobis_cosine        2277.0      0.166144   \n",
       "3       100000  0.005          mahalanobis_cosine        2277.0      0.166144   \n",
       "4       100000  0.001  mahalanobis_shifted_cosine        2252.0      0.164320   \n",
       "5       100000  0.020  mahalanobis_shifted_cosine        2252.0      0.164320   \n",
       "6       100000  0.005  mahalanobis_shifted_cosine        2252.0      0.164320   \n",
       "7       100000  0.010  mahalanobis_shifted_cosine        2252.0      0.164320   \n",
       "8        50000  0.005          mahalanobis_cosine        2214.0      0.161547   \n",
       "9        50000  0.020          mahalanobis_cosine        2214.0      0.161547   \n",
       "\n",
       "   n_rows  \n",
       "0   13705  \n",
       "1   13705  \n",
       "2   13705  \n",
       "3   13705  \n",
       "4   13705  \n",
       "5   13705  \n",
       "6   13705  \n",
       "7   13705  \n",
       "8   13705  \n",
       "9   13705  "
      ]
     },
     "execution_count": 9,
     "metadata": {},
     "output_type": "execute_result"
    }
   ],
   "source": [
    "sorted_summary_df.head(10)"
   ]
  },
  {
   "cell_type": "code",
   "execution_count": 14,
   "id": "molecular-liberal",
   "metadata": {},
   "outputs": [],
   "source": [
    "# simple (un‑weighted) mean of avg_accuracy per measure\n",
    "\n",
    "mean_by_measure_df = (\n",
    "    sorted_summary_df\n",
    "      .groupby(\"measure\", as_index=False)[\"avg_accuracy\"]\n",
    "      .mean()\n",
    "      .rename(columns={\"avg_accuracy\": \"mean_avg_accuracy\"})\n",
    ")"
   ]
  },
  {
   "cell_type": "code",
   "execution_count": 15,
   "id": "dressed-bonus",
   "metadata": {},
   "outputs": [
    {
     "name": "stdout",
     "output_type": "stream",
     "text": [
      "Un‑weighted mean accuracy:\n"
     ]
    },
    {
     "data": {
      "text/html": [
       "<div>\n",
       "<style scoped>\n",
       "    .dataframe tbody tr th:only-of-type {\n",
       "        vertical-align: middle;\n",
       "    }\n",
       "\n",
       "    .dataframe tbody tr th {\n",
       "        vertical-align: top;\n",
       "    }\n",
       "\n",
       "    .dataframe thead th {\n",
       "        text-align: right;\n",
       "    }\n",
       "</style>\n",
       "<table border=\"1\" class=\"dataframe\">\n",
       "  <thead>\n",
       "    <tr style=\"text-align: right;\">\n",
       "      <th></th>\n",
       "      <th>measure</th>\n",
       "      <th>mean_avg_accuracy</th>\n",
       "    </tr>\n",
       "  </thead>\n",
       "  <tbody>\n",
       "    <tr>\n",
       "      <th>3</th>\n",
       "      <td>mahalanobis_shifted_cosine</td>\n",
       "      <td>0.154611</td>\n",
       "    </tr>\n",
       "    <tr>\n",
       "      <th>1</th>\n",
       "      <td>mahalanobis_cosine</td>\n",
       "      <td>0.154341</td>\n",
       "    </tr>\n",
       "    <tr>\n",
       "      <th>4</th>\n",
       "      <td>naive_cosine</td>\n",
       "      <td>0.140897</td>\n",
       "    </tr>\n",
       "    <tr>\n",
       "      <th>2</th>\n",
       "      <td>mahalanobis_distance</td>\n",
       "      <td>0.062028</td>\n",
       "    </tr>\n",
       "    <tr>\n",
       "      <th>0</th>\n",
       "      <td>euclidean_distance</td>\n",
       "      <td>0.051952</td>\n",
       "    </tr>\n",
       "  </tbody>\n",
       "</table>\n",
       "</div>"
      ],
      "text/plain": [
       "                      measure  mean_avg_accuracy\n",
       "3  mahalanobis_shifted_cosine           0.154611\n",
       "1          mahalanobis_cosine           0.154341\n",
       "4                naive_cosine           0.140897\n",
       "2        mahalanobis_distance           0.062028\n",
       "0          euclidean_distance           0.051952"
      ]
     },
     "execution_count": 15,
     "metadata": {},
     "output_type": "execute_result"
    }
   ],
   "source": [
    "print(\"Un‑weighted mean accuracy:\")\n",
    "mean_by_measure_df.sort_values(\"mean_avg_accuracy\", ascending=False)"
   ]
  },
  {
   "cell_type": "code",
   "execution_count": 16,
   "id": "corresponding-depth",
   "metadata": {},
   "outputs": [],
   "source": [
    "mean_by_measure_df.to_csv(\"measurements_accuracies.csv\", index=False)"
   ]
  },
  {
   "cell_type": "code",
   "execution_count": 11,
   "id": "spiritual-onion",
   "metadata": {},
   "outputs": [],
   "source": [
    "sorted_summary_df.to_csv(\"merged_results_measurements.csv\", index=False)"
   ]
  }
 ],
 "metadata": {
  "kernelspec": {
   "display_name": "Python3.8.3",
   "language": "python",
   "name": "python3.8.3"
  },
  "language_info": {
   "codemirror_mode": {
    "name": "ipython",
    "version": 3
   },
   "file_extension": ".py",
   "mimetype": "text/x-python",
   "name": "python",
   "nbconvert_exporter": "python",
   "pygments_lexer": "ipython3",
   "version": "3.8.3"
  }
 },
 "nbformat": 4,
 "nbformat_minor": 5
}
